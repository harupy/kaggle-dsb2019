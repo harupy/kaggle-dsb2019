{
 "cells": [
  {
   "cell_type": "markdown",
   "metadata": {},
   "source": [
    "## Libraries"
   ]
  },
  {
   "cell_type": "code",
   "execution_count": 1,
   "metadata": {},
   "outputs": [],
   "source": [
    "import numpy as np\n",
    "import pandas as pd\n",
    "\n",
    "from pathlib import Path\n",
    "\n",
    "from tqdm import tqdm_notebook as tqdm"
   ]
  },
  {
   "cell_type": "markdown",
   "metadata": {},
   "source": [
    "## Data Loading"
   ]
  },
  {
   "cell_type": "code",
   "execution_count": 2,
   "metadata": {},
   "outputs": [],
   "source": [
    "DATA_DIR = Path(\"../features/\")\n",
    "train = pd.read_feather(DATA_DIR / \"PastSummary_train.ftr\")\n",
    "valid = pd.read_feather(DATA_DIR / \"PastSummary_valid.ftr\")\n",
    "test = pd.read_feather(DATA_DIR / \"PastSummary_test.ftr\")"
   ]
  },
  {
   "cell_type": "code",
   "execution_count": 3,
   "metadata": {},
   "outputs": [
    {
     "data": {
      "text/html": [
       "<div>\n",
       "<style scoped>\n",
       "    .dataframe tbody tr th:only-of-type {\n",
       "        vertical-align: middle;\n",
       "    }\n",
       "\n",
       "    .dataframe tbody tr th {\n",
       "        vertical-align: top;\n",
       "    }\n",
       "\n",
       "    .dataframe thead th {\n",
       "        text-align: right;\n",
       "    }\n",
       "</style>\n",
       "<table border=\"1\" class=\"dataframe\">\n",
       "  <thead>\n",
       "    <tr style=\"text-align: right;\">\n",
       "      <th></th>\n",
       "      <th>Activity</th>\n",
       "      <th>Assessment</th>\n",
       "      <th>Clip</th>\n",
       "      <th>Game</th>\n",
       "      <th>3010</th>\n",
       "      <th>4035</th>\n",
       "      <th>2020</th>\n",
       "      <th>4100</th>\n",
       "      <th>3110</th>\n",
       "      <th>4070</th>\n",
       "      <th>...</th>\n",
       "      <th>Fireworks (Activity)_Dot_SoHigh_count</th>\n",
       "      <th>Flower Waterer (Activity)_duration</th>\n",
       "      <th>Sandcastle Builder (Activity)_duration</th>\n",
       "      <th>sand_filled_ratio</th>\n",
       "      <th>Sandcastle Builder (Activity)_Dot_DragShovel_count</th>\n",
       "      <th>Sandcastle Builder (Activity)_Dot_SoCool_count</th>\n",
       "      <th>Sandcastle Builder (Activity)_Dot_FillItUp_count</th>\n",
       "      <th>Watering Hole (Activity)_duration</th>\n",
       "      <th>water_filled_ratio</th>\n",
       "      <th>installation_id</th>\n",
       "    </tr>\n",
       "  </thead>\n",
       "  <tbody>\n",
       "    <tr>\n",
       "      <th>0</th>\n",
       "      <td>3</td>\n",
       "      <td>0</td>\n",
       "      <td>6</td>\n",
       "      <td>2</td>\n",
       "      <td>79</td>\n",
       "      <td>1</td>\n",
       "      <td>20</td>\n",
       "      <td>0</td>\n",
       "      <td>77</td>\n",
       "      <td>94</td>\n",
       "      <td>...</td>\n",
       "      <td>12</td>\n",
       "      <td>164673</td>\n",
       "      <td>89767</td>\n",
       "      <td>0.50000</td>\n",
       "      <td>5</td>\n",
       "      <td>14</td>\n",
       "      <td>6</td>\n",
       "      <td>0</td>\n",
       "      <td>0.000000</td>\n",
       "      <td>0006a69f</td>\n",
       "    </tr>\n",
       "    <tr>\n",
       "      <th>1</th>\n",
       "      <td>4</td>\n",
       "      <td>1</td>\n",
       "      <td>8</td>\n",
       "      <td>4</td>\n",
       "      <td>226</td>\n",
       "      <td>6</td>\n",
       "      <td>26</td>\n",
       "      <td>5</td>\n",
       "      <td>223</td>\n",
       "      <td>156</td>\n",
       "      <td>...</td>\n",
       "      <td>12</td>\n",
       "      <td>164673</td>\n",
       "      <td>89767</td>\n",
       "      <td>0.50000</td>\n",
       "      <td>5</td>\n",
       "      <td>14</td>\n",
       "      <td>6</td>\n",
       "      <td>0</td>\n",
       "      <td>0.000000</td>\n",
       "      <td>0006a69f</td>\n",
       "    </tr>\n",
       "    <tr>\n",
       "      <th>2</th>\n",
       "      <td>4</td>\n",
       "      <td>2</td>\n",
       "      <td>8</td>\n",
       "      <td>4</td>\n",
       "      <td>228</td>\n",
       "      <td>6</td>\n",
       "      <td>27</td>\n",
       "      <td>5</td>\n",
       "      <td>225</td>\n",
       "      <td>160</td>\n",
       "      <td>...</td>\n",
       "      <td>12</td>\n",
       "      <td>164673</td>\n",
       "      <td>89767</td>\n",
       "      <td>0.50000</td>\n",
       "      <td>5</td>\n",
       "      <td>14</td>\n",
       "      <td>6</td>\n",
       "      <td>0</td>\n",
       "      <td>0.000000</td>\n",
       "      <td>0006a69f</td>\n",
       "    </tr>\n",
       "    <tr>\n",
       "      <th>3</th>\n",
       "      <td>9</td>\n",
       "      <td>3</td>\n",
       "      <td>15</td>\n",
       "      <td>7</td>\n",
       "      <td>341</td>\n",
       "      <td>14</td>\n",
       "      <td>52</td>\n",
       "      <td>6</td>\n",
       "      <td>336</td>\n",
       "      <td>348</td>\n",
       "      <td>...</td>\n",
       "      <td>30</td>\n",
       "      <td>254739</td>\n",
       "      <td>127411</td>\n",
       "      <td>0.52381</td>\n",
       "      <td>5</td>\n",
       "      <td>22</td>\n",
       "      <td>8</td>\n",
       "      <td>80243</td>\n",
       "      <td>0.666667</td>\n",
       "      <td>0006a69f</td>\n",
       "    </tr>\n",
       "    <tr>\n",
       "      <th>4</th>\n",
       "      <td>10</td>\n",
       "      <td>3</td>\n",
       "      <td>17</td>\n",
       "      <td>9</td>\n",
       "      <td>463</td>\n",
       "      <td>15</td>\n",
       "      <td>64</td>\n",
       "      <td>12</td>\n",
       "      <td>457</td>\n",
       "      <td>387</td>\n",
       "      <td>...</td>\n",
       "      <td>30</td>\n",
       "      <td>254739</td>\n",
       "      <td>127411</td>\n",
       "      <td>0.52381</td>\n",
       "      <td>5</td>\n",
       "      <td>22</td>\n",
       "      <td>8</td>\n",
       "      <td>80243</td>\n",
       "      <td>0.666667</td>\n",
       "      <td>0006a69f</td>\n",
       "    </tr>\n",
       "  </tbody>\n",
       "</table>\n",
       "<p>5 rows × 978 columns</p>\n",
       "</div>"
      ],
      "text/plain": [
       "   Activity  Assessment  Clip  Game  3010  4035  2020  4100  3110  4070  ...  \\\n",
       "0         3           0     6     2    79     1    20     0    77    94  ...   \n",
       "1         4           1     8     4   226     6    26     5   223   156  ...   \n",
       "2         4           2     8     4   228     6    27     5   225   160  ...   \n",
       "3         9           3    15     7   341    14    52     6   336   348  ...   \n",
       "4        10           3    17     9   463    15    64    12   457   387  ...   \n",
       "\n",
       "   Fireworks (Activity)_Dot_SoHigh_count  Flower Waterer (Activity)_duration  \\\n",
       "0                                     12                              164673   \n",
       "1                                     12                              164673   \n",
       "2                                     12                              164673   \n",
       "3                                     30                              254739   \n",
       "4                                     30                              254739   \n",
       "\n",
       "   Sandcastle Builder (Activity)_duration  sand_filled_ratio  \\\n",
       "0                                   89767            0.50000   \n",
       "1                                   89767            0.50000   \n",
       "2                                   89767            0.50000   \n",
       "3                                  127411            0.52381   \n",
       "4                                  127411            0.52381   \n",
       "\n",
       "   Sandcastle Builder (Activity)_Dot_DragShovel_count  \\\n",
       "0                                                  5    \n",
       "1                                                  5    \n",
       "2                                                  5    \n",
       "3                                                  5    \n",
       "4                                                  5    \n",
       "\n",
       "   Sandcastle Builder (Activity)_Dot_SoCool_count  \\\n",
       "0                                              14   \n",
       "1                                              14   \n",
       "2                                              14   \n",
       "3                                              22   \n",
       "4                                              22   \n",
       "\n",
       "   Sandcastle Builder (Activity)_Dot_FillItUp_count  \\\n",
       "0                                                 6   \n",
       "1                                                 6   \n",
       "2                                                 6   \n",
       "3                                                 8   \n",
       "4                                                 8   \n",
       "\n",
       "   Watering Hole (Activity)_duration  water_filled_ratio  installation_id  \n",
       "0                                  0            0.000000         0006a69f  \n",
       "1                                  0            0.000000         0006a69f  \n",
       "2                                  0            0.000000         0006a69f  \n",
       "3                              80243            0.666667         0006a69f  \n",
       "4                              80243            0.666667         0006a69f  \n",
       "\n",
       "[5 rows x 978 columns]"
      ]
     },
     "execution_count": 3,
     "metadata": {},
     "output_type": "execute_result"
    }
   ],
   "source": [
    "train.head()"
   ]
  },
  {
   "cell_type": "code",
   "execution_count": 4,
   "metadata": {},
   "outputs": [],
   "source": [
    "oof_preds = np.load(\"../output/lgb_18_past_summary_all/oof_preds.npy\")\n",
    "\n",
    "train[\"preds\"] = oof_preds"
   ]
  },
  {
   "cell_type": "markdown",
   "metadata": {},
   "source": [
    "## First Assessment"
   ]
  },
  {
   "cell_type": "code",
   "execution_count": 5,
   "metadata": {},
   "outputs": [
    {
     "data": {
      "application/vnd.jupyter.widget-view+json": {
       "model_id": "60f1b63204024fe0a384f0431deb3c93",
       "version_major": 2,
       "version_minor": 0
      },
      "text/plain": [
       "HBox(children=(IntProgress(value=0, max=3614), HTML(value='')))"
      ]
     },
     "metadata": {},
     "output_type": "display_data"
    },
    {
     "name": "stdout",
     "output_type": "stream",
     "text": [
      "\n"
     ]
    }
   ],
   "source": [
    "all_ids = train[\"installation_id\"].unique()\n",
    "all_first_assess = {\n",
    "    0: [],\n",
    "    1: [],\n",
    "    2: [],\n",
    "    3: [],\n",
    "    4: []\n",
    "}\n",
    "\n",
    "after_second_assess = {\n",
    "    0: [],\n",
    "    1: [],\n",
    "    2: [],\n",
    "    3: [],\n",
    "    4: []\n",
    "}\n",
    "\n",
    "for idx in tqdm(all_ids):\n",
    "    for i in range(5): \n",
    "        assessments = train.query(\n",
    "            f\"installation_id == '{idx}' & session_title == {i}\")\n",
    "        if len(assessments) > 0:\n",
    "            all_first_assess[i].append(assessments.iloc[0:1])\n",
    "        if len(assessments) > 1:\n",
    "            after_second_assess[i].append(assessments.iloc[1:])\n",
    "    \n",
    "all_first_df0 = pd.concat(\n",
    "    all_first_assess[0], \n",
    "    axis=0, \n",
    "    sort=False).reset_index(drop=True)\n",
    "\n",
    "all_first_df1 = pd.concat(\n",
    "    all_first_assess[1], \n",
    "    axis=0, \n",
    "    sort=False).reset_index(drop=True)\n",
    "\n",
    "all_first_df2 = pd.concat(\n",
    "    all_first_assess[2], \n",
    "    axis=0, \n",
    "    sort=False).reset_index(drop=True)\n",
    "\n",
    "all_first_df3 = pd.concat(\n",
    "    all_first_assess[3], \n",
    "    axis=0, \n",
    "    sort=False).reset_index(drop=True)\n",
    "\n",
    "all_first_df4 = pd.concat(\n",
    "    all_first_assess[4], \n",
    "    axis=0, \n",
    "    sort=False).reset_index(drop=True)\n",
    "\n",
    "after_second_df0 = pd.concat(\n",
    "    after_second_assess[0],\n",
    "    axis=0,\n",
    "    sort=False).reset_index(drop=True)\n",
    "\n",
    "after_second_df1 = pd.concat(\n",
    "    after_second_assess[1],\n",
    "    axis=0,\n",
    "    sort=False).reset_index(drop=True)\n",
    "\n",
    "after_second_df2 = pd.concat(\n",
    "    after_second_assess[2],\n",
    "    axis=0,\n",
    "    sort=False).reset_index(drop=True)\n",
    "\n",
    "after_second_df3 = pd.concat(\n",
    "    after_second_assess[3],\n",
    "    axis=0,\n",
    "    sort=False).reset_index(drop=True)\n",
    "\n",
    "after_second_df4 = pd.concat(\n",
    "    after_second_assess[4],\n",
    "    axis=0,\n",
    "    sort=False).reset_index(drop=True)"
   ]
  },
  {
   "cell_type": "code",
   "execution_count": 6,
   "metadata": {},
   "outputs": [
    {
     "data": {
      "text/html": [
       "<div>\n",
       "<style scoped>\n",
       "    .dataframe tbody tr th:only-of-type {\n",
       "        vertical-align: middle;\n",
       "    }\n",
       "\n",
       "    .dataframe tbody tr th {\n",
       "        vertical-align: top;\n",
       "    }\n",
       "\n",
       "    .dataframe thead th {\n",
       "        text-align: right;\n",
       "    }\n",
       "</style>\n",
       "<table border=\"1\" class=\"dataframe\">\n",
       "  <thead>\n",
       "    <tr style=\"text-align: right;\">\n",
       "      <th></th>\n",
       "      <th>Activity</th>\n",
       "      <th>Assessment</th>\n",
       "      <th>Clip</th>\n",
       "      <th>Game</th>\n",
       "      <th>3010</th>\n",
       "      <th>4035</th>\n",
       "      <th>2020</th>\n",
       "      <th>4100</th>\n",
       "      <th>3110</th>\n",
       "      <th>4070</th>\n",
       "      <th>...</th>\n",
       "      <th>Flower Waterer (Activity)_duration</th>\n",
       "      <th>Sandcastle Builder (Activity)_duration</th>\n",
       "      <th>sand_filled_ratio</th>\n",
       "      <th>Sandcastle Builder (Activity)_Dot_DragShovel_count</th>\n",
       "      <th>Sandcastle Builder (Activity)_Dot_SoCool_count</th>\n",
       "      <th>Sandcastle Builder (Activity)_Dot_FillItUp_count</th>\n",
       "      <th>Watering Hole (Activity)_duration</th>\n",
       "      <th>water_filled_ratio</th>\n",
       "      <th>installation_id</th>\n",
       "      <th>preds</th>\n",
       "    </tr>\n",
       "  </thead>\n",
       "  <tbody>\n",
       "    <tr>\n",
       "      <th>0</th>\n",
       "      <td>4</td>\n",
       "      <td>1</td>\n",
       "      <td>8</td>\n",
       "      <td>4</td>\n",
       "      <td>226</td>\n",
       "      <td>6</td>\n",
       "      <td>26</td>\n",
       "      <td>5</td>\n",
       "      <td>223</td>\n",
       "      <td>156</td>\n",
       "      <td>...</td>\n",
       "      <td>164673</td>\n",
       "      <td>89767</td>\n",
       "      <td>0.500000</td>\n",
       "      <td>5</td>\n",
       "      <td>14</td>\n",
       "      <td>6</td>\n",
       "      <td>0</td>\n",
       "      <td>0.0</td>\n",
       "      <td>0006a69f</td>\n",
       "      <td>1</td>\n",
       "    </tr>\n",
       "    <tr>\n",
       "      <th>1</th>\n",
       "      <td>7</td>\n",
       "      <td>2</td>\n",
       "      <td>11</td>\n",
       "      <td>5</td>\n",
       "      <td>246</td>\n",
       "      <td>45</td>\n",
       "      <td>50</td>\n",
       "      <td>5</td>\n",
       "      <td>240</td>\n",
       "      <td>577</td>\n",
       "      <td>...</td>\n",
       "      <td>267890</td>\n",
       "      <td>339403</td>\n",
       "      <td>0.492308</td>\n",
       "      <td>4</td>\n",
       "      <td>64</td>\n",
       "      <td>24</td>\n",
       "      <td>21389</td>\n",
       "      <td>0.0</td>\n",
       "      <td>0006c192</td>\n",
       "      <td>0</td>\n",
       "    </tr>\n",
       "    <tr>\n",
       "      <th>2</th>\n",
       "      <td>0</td>\n",
       "      <td>1</td>\n",
       "      <td>0</td>\n",
       "      <td>0</td>\n",
       "      <td>1</td>\n",
       "      <td>0</td>\n",
       "      <td>0</td>\n",
       "      <td>0</td>\n",
       "      <td>0</td>\n",
       "      <td>0</td>\n",
       "      <td>...</td>\n",
       "      <td>0</td>\n",
       "      <td>0</td>\n",
       "      <td>0.000000</td>\n",
       "      <td>0</td>\n",
       "      <td>0</td>\n",
       "      <td>0</td>\n",
       "      <td>0</td>\n",
       "      <td>0.0</td>\n",
       "      <td>00129856</td>\n",
       "      <td>2</td>\n",
       "    </tr>\n",
       "    <tr>\n",
       "      <th>3</th>\n",
       "      <td>0</td>\n",
       "      <td>1</td>\n",
       "      <td>2</td>\n",
       "      <td>0</td>\n",
       "      <td>8</td>\n",
       "      <td>1</td>\n",
       "      <td>2</td>\n",
       "      <td>3</td>\n",
       "      <td>8</td>\n",
       "      <td>30</td>\n",
       "      <td>...</td>\n",
       "      <td>0</td>\n",
       "      <td>0</td>\n",
       "      <td>0.000000</td>\n",
       "      <td>0</td>\n",
       "      <td>0</td>\n",
       "      <td>0</td>\n",
       "      <td>0</td>\n",
       "      <td>0.0</td>\n",
       "      <td>001d0ed0</td>\n",
       "      <td>0</td>\n",
       "    </tr>\n",
       "    <tr>\n",
       "      <th>4</th>\n",
       "      <td>3</td>\n",
       "      <td>1</td>\n",
       "      <td>6</td>\n",
       "      <td>3</td>\n",
       "      <td>81</td>\n",
       "      <td>6</td>\n",
       "      <td>10</td>\n",
       "      <td>0</td>\n",
       "      <td>81</td>\n",
       "      <td>204</td>\n",
       "      <td>...</td>\n",
       "      <td>132080</td>\n",
       "      <td>0</td>\n",
       "      <td>0.000000</td>\n",
       "      <td>0</td>\n",
       "      <td>0</td>\n",
       "      <td>0</td>\n",
       "      <td>0</td>\n",
       "      <td>0.0</td>\n",
       "      <td>00225f67</td>\n",
       "      <td>0</td>\n",
       "    </tr>\n",
       "  </tbody>\n",
       "</table>\n",
       "<p>5 rows × 979 columns</p>\n",
       "</div>"
      ],
      "text/plain": [
       "   Activity  Assessment  Clip  Game  3010  4035  2020  4100  3110  4070  ...  \\\n",
       "0         4           1     8     4   226     6    26     5   223   156  ...   \n",
       "1         7           2    11     5   246    45    50     5   240   577  ...   \n",
       "2         0           1     0     0     1     0     0     0     0     0  ...   \n",
       "3         0           1     2     0     8     1     2     3     8    30  ...   \n",
       "4         3           1     6     3    81     6    10     0    81   204  ...   \n",
       "\n",
       "   Flower Waterer (Activity)_duration  Sandcastle Builder (Activity)_duration  \\\n",
       "0                              164673                                   89767   \n",
       "1                              267890                                  339403   \n",
       "2                                   0                                       0   \n",
       "3                                   0                                       0   \n",
       "4                              132080                                       0   \n",
       "\n",
       "   sand_filled_ratio  Sandcastle Builder (Activity)_Dot_DragShovel_count  \\\n",
       "0           0.500000                                                  5    \n",
       "1           0.492308                                                  4    \n",
       "2           0.000000                                                  0    \n",
       "3           0.000000                                                  0    \n",
       "4           0.000000                                                  0    \n",
       "\n",
       "   Sandcastle Builder (Activity)_Dot_SoCool_count  \\\n",
       "0                                              14   \n",
       "1                                              64   \n",
       "2                                               0   \n",
       "3                                               0   \n",
       "4                                               0   \n",
       "\n",
       "   Sandcastle Builder (Activity)_Dot_FillItUp_count  \\\n",
       "0                                                 6   \n",
       "1                                                24   \n",
       "2                                                 0   \n",
       "3                                                 0   \n",
       "4                                                 0   \n",
       "\n",
       "   Watering Hole (Activity)_duration  water_filled_ratio  installation_id  \\\n",
       "0                                  0                 0.0         0006a69f   \n",
       "1                              21389                 0.0         0006c192   \n",
       "2                                  0                 0.0         00129856   \n",
       "3                                  0                 0.0         001d0ed0   \n",
       "4                                  0                 0.0         00225f67   \n",
       "\n",
       "   preds  \n",
       "0      1  \n",
       "1      0  \n",
       "2      2  \n",
       "3      0  \n",
       "4      0  \n",
       "\n",
       "[5 rows x 979 columns]"
      ]
     },
     "execution_count": 6,
     "metadata": {},
     "output_type": "execute_result"
    }
   ],
   "source": [
    "all_first_df0.head()"
   ]
  },
  {
   "cell_type": "code",
   "execution_count": 7,
   "metadata": {},
   "outputs": [],
   "source": [
    "import numpy as np\n",
    "\n",
    "from typing import Union\n",
    "\n",
    "\n",
    "def qwk(y_true: Union[np.ndarray, list],\n",
    "        y_pred: Union[np.ndarray, list],\n",
    "        max_rat: int = 3) -> float:\n",
    "    y_true_ = np.asarray(y_true)\n",
    "    y_pred_ = np.asarray(y_pred)\n",
    "\n",
    "    hist1 = np.zeros((max_rat + 1, ))\n",
    "    hist2 = np.zeros((max_rat + 1, ))\n",
    "\n",
    "    uniq_class = np.unique(y_true_)\n",
    "    for i in uniq_class:\n",
    "        hist1[int(i)] = len(np.argwhere(y_true_ == i))\n",
    "        hist2[int(i)] = len(np.argwhere(y_pred_ == i))\n",
    "\n",
    "    numerator = np.square(y_true_ - y_pred_).sum()\n",
    "\n",
    "    denominator = 0\n",
    "    for i in range(max_rat + 1):\n",
    "        for j in range(max_rat + 1):\n",
    "            denominator += hist1[i] * hist2[j] * (i - j) * (i - j)\n",
    "\n",
    "    denominator /= y_true_.shape[0]\n",
    "    return 1 - numerator / denominator"
   ]
  },
  {
   "cell_type": "code",
   "execution_count": 8,
   "metadata": {},
   "outputs": [
    {
     "name": "stdout",
     "output_type": "stream",
     "text": [
      "class 0: all first qwk: 0.4341\n"
     ]
    }
   ],
   "source": [
    "qwk_score = qwk(all_first_df0[\"accuracy_group\"], all_first_df0[\"preds\"])\n",
    "print(f\"class 0: all first qwk: {qwk_score:.4f}\")"
   ]
  },
  {
   "cell_type": "code",
   "execution_count": 9,
   "metadata": {},
   "outputs": [
    {
     "name": "stdout",
     "output_type": "stream",
     "text": [
      "class 1: all first qwk: 0.3674\n"
     ]
    }
   ],
   "source": [
    "qwk_score = qwk(all_first_df1[\"accuracy_group\"], all_first_df1[\"preds\"])\n",
    "print(f\"class 1: all first qwk: {qwk_score:.4f}\")"
   ]
  },
  {
   "cell_type": "code",
   "execution_count": 10,
   "metadata": {},
   "outputs": [
    {
     "name": "stdout",
     "output_type": "stream",
     "text": [
      "class 2: all first qwk: 0.3194\n"
     ]
    }
   ],
   "source": [
    "qwk_score = qwk(all_first_df2[\"accuracy_group\"], all_first_df2[\"preds\"])\n",
    "print(f\"class 2: all first qwk: {qwk_score:.4f}\")"
   ]
  },
  {
   "cell_type": "code",
   "execution_count": 11,
   "metadata": {},
   "outputs": [
    {
     "name": "stdout",
     "output_type": "stream",
     "text": [
      "class 3: all first qwk: 0.2719\n"
     ]
    }
   ],
   "source": [
    "qwk_score = qwk(all_first_df3[\"accuracy_group\"], all_first_df3[\"preds\"])\n",
    "print(f\"class 3: all first qwk: {qwk_score:.4f}\")"
   ]
  },
  {
   "cell_type": "code",
   "execution_count": 12,
   "metadata": {},
   "outputs": [
    {
     "name": "stdout",
     "output_type": "stream",
     "text": [
      "class 4: all first qwk: 0.3300\n"
     ]
    }
   ],
   "source": [
    "qwk_score = qwk(all_first_df4[\"accuracy_group\"], all_first_df4[\"preds\"])\n",
    "print(f\"class 4: all first qwk: {qwk_score:.4f}\")"
   ]
  },
  {
   "cell_type": "code",
   "execution_count": 13,
   "metadata": {},
   "outputs": [
    {
     "name": "stdout",
     "output_type": "stream",
     "text": [
      "class 0: after second qwk: 0.5695\n"
     ]
    }
   ],
   "source": [
    "qwk_score = qwk(after_second_df0[\"accuracy_group\"], after_second_df0[\"preds\"])\n",
    "print(f\"class 0: after second qwk: {qwk_score:.4f}\")"
   ]
  },
  {
   "cell_type": "code",
   "execution_count": 14,
   "metadata": {},
   "outputs": [
    {
     "name": "stdout",
     "output_type": "stream",
     "text": [
      "class 1: after second qwk: 0.4456\n"
     ]
    }
   ],
   "source": [
    "qwk_score = qwk(after_second_df1[\"accuracy_group\"], after_second_df1[\"preds\"])\n",
    "print(f\"class 1: after second qwk: {qwk_score:.4f}\")"
   ]
  },
  {
   "cell_type": "code",
   "execution_count": 15,
   "metadata": {},
   "outputs": [
    {
     "name": "stdout",
     "output_type": "stream",
     "text": [
      "class 2: after second qwk: 0.4335\n"
     ]
    }
   ],
   "source": [
    "qwk_score = qwk(after_second_df2[\"accuracy_group\"], after_second_df2[\"preds\"])\n",
    "print(f\"class 2: after second qwk: {qwk_score:.4f}\")"
   ]
  },
  {
   "cell_type": "code",
   "execution_count": 16,
   "metadata": {},
   "outputs": [
    {
     "name": "stdout",
     "output_type": "stream",
     "text": [
      "class 3: after second qwk: 0.5430\n"
     ]
    }
   ],
   "source": [
    "qwk_score = qwk(after_second_df3[\"accuracy_group\"], after_second_df3[\"preds\"])\n",
    "print(f\"class 3: after second qwk: {qwk_score:.4f}\")"
   ]
  },
  {
   "cell_type": "code",
   "execution_count": 17,
   "metadata": {},
   "outputs": [
    {
     "name": "stdout",
     "output_type": "stream",
     "text": [
      "class 4: after second qwk: 0.5081\n"
     ]
    }
   ],
   "source": [
    "qwk_score = qwk(after_second_df4[\"accuracy_group\"], after_second_df4[\"preds\"])\n",
    "print(f\"class 4: after second qwk: {qwk_score:.4f}\")"
   ]
  },
  {
   "cell_type": "code",
   "execution_count": 20,
   "metadata": {},
   "outputs": [
    {
     "name": "stdout",
     "output_type": "stream",
     "text": [
      "overall qwk: 0.5688\n"
     ]
    }
   ],
   "source": [
    "qwk_score = qwk(\n",
    "    np.concatenate(\n",
    "        [\n",
    "            all_first_df0[\"accuracy_group\"],\n",
    "            all_first_df1[\"accuracy_group\"],\n",
    "            all_first_df2[\"accuracy_group\"],\n",
    "            all_first_df3[\"accuracy_group\"],\n",
    "            all_first_df4[\"accuracy_group\"]\n",
    "        ])\n",
    "    , np.concatenate(\n",
    "        [\n",
    "            all_first_df0[\"preds\"],\n",
    "            all_first_df1[\"preds\"],\n",
    "            all_first_df2[\"preds\"],\n",
    "            all_first_df3[\"preds\"],\n",
    "            all_first_df4[\"preds\"]\n",
    "        ])\n",
    "    )\n",
    "print(f\"overall qwk: {qwk_score:.4f}\")"
   ]
  },
  {
   "cell_type": "code",
   "execution_count": 21,
   "metadata": {},
   "outputs": [
    {
     "name": "stdout",
     "output_type": "stream",
     "text": [
      "overall qwk: 0.6309\n"
     ]
    }
   ],
   "source": [
    "qwk_score = qwk(\n",
    "    np.concatenate(\n",
    "        [\n",
    "            after_second_df0[\"accuracy_group\"],\n",
    "            after_second_df1[\"accuracy_group\"],\n",
    "            after_second_df2[\"accuracy_group\"],\n",
    "            after_second_df3[\"accuracy_group\"],\n",
    "            after_second_df4[\"accuracy_group\"]\n",
    "        ])\n",
    "    , np.concatenate(\n",
    "        [\n",
    "            after_second_df0[\"preds\"],\n",
    "            after_second_df1[\"preds\"],\n",
    "            after_second_df2[\"preds\"],\n",
    "            after_second_df3[\"preds\"],\n",
    "            after_second_df4[\"preds\"]\n",
    "        ])\n",
    "    )\n",
    "print(f\"overall qwk: {qwk_score:.4f}\")"
   ]
  },
  {
   "cell_type": "code",
   "execution_count": null,
   "metadata": {},
   "outputs": [],
   "source": []
  }
 ],
 "metadata": {
  "kernelspec": {
   "display_name": "Python 3",
   "language": "python",
   "name": "python3"
  },
  "language_info": {
   "codemirror_mode": {
    "name": "ipython",
    "version": 3
   },
   "file_extension": ".py",
   "mimetype": "text/x-python",
   "name": "python",
   "nbconvert_exporter": "python",
   "pygments_lexer": "ipython3",
   "version": "3.6.6"
  }
 },
 "nbformat": 4,
 "nbformat_minor": 4
}
